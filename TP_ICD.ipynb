{
  "nbformat": 4,
  "nbformat_minor": 0,
  "metadata": {
    "colab": {
      "private_outputs": true,
      "provenance": [],
      "collapsed_sections": [
        "muFAy9NEuU10"
      ],
      "include_colab_link": true
    },
    "kernelspec": {
      "name": "python3",
      "display_name": "Python 3"
    },
    "language_info": {
      "name": "python"
    }
  },
  "cells": [
    {
      "cell_type": "markdown",
      "metadata": {
        "id": "view-in-github",
        "colab_type": "text"
      },
      "source": [
        "<a href=\"https://colab.research.google.com/github/raissamiranda/NBA-Data-Science-Analysis/blob/main/TP_ICD.ipynb\" target=\"_parent\"><img src=\"https://colab.research.google.com/assets/colab-badge.svg\" alt=\"Open In Colab\"/></a>"
      ]
    },
    {
      "cell_type": "markdown",
      "source": [
        "# **1991-2021 NBA Stats**\n",
        "\n",
        "> **Introdução**\n",
        "\n",
        "Este trabalho tem como objetivo analisar o conjunto de dados que contém estatísticas da NBA dos anos entre 1991 e 2021 referentes aos jogadores, equipes e MVPs.\n",
        "O tema relacionado a liga profissional de basquete foi escolhido pelo interesse do grupo em visualizar como as estatísticas dos jogos mudaram ao longo dos anos e entender as relações entre características dos times, dos jogadores e a performance geral na liga.\n",
        "\n"
      ],
      "metadata": {
        "id": "-IBT5DmH2zIT"
      }
    },
    {
      "cell_type": "markdown",
      "source": [
        "> **Imports básicos**"
      ],
      "metadata": {
        "id": "nJ81_W6A42_V"
      }
    },
    {
      "cell_type": "code",
      "execution_count": null,
      "metadata": {
        "id": "ToAWAoHgwbAU"
      },
      "outputs": [],
      "source": [
        "# -*- coding: utf8\n",
        "\n",
        "import matplotlib.pyplot as plt\n",
        "import numpy as np\n",
        "import pandas as pd\n",
        "\n",
        "plt.ion()\n",
        "plt.style.use('seaborn-colorblind')\n",
        "plt.rcParams['figure.figsize']  = (12, 8)\n",
        "\n",
        "def despine(ax=None):\n",
        "    if ax is None:\n",
        "        ax = plt.gca()\n",
        "\n",
        "    # Only show ticks on the left and bottom spines\n",
        "    ax.yaxis.set_ticks_position('left')\n",
        "    ax.xaxis.set_ticks_position('bottom')"
      ]
    },
    {
      "cell_type": "markdown",
      "source": [
        "> **Metodologia**\n",
        "\n",
        "Aqui são importados os arquivos referentes aos dataframes utilizados. O conjunto de dados é organizado em 5 tabelas, cada uma com dados de um conteúdo específico da NBA. A seguir é mostrado brevemente um recorte de cada uma das tabelas, juntamente com sua especificação."
      ],
      "metadata": {
        "id": "giOa7iF82wtb"
      }
    },
    {
      "cell_type": "code",
      "source": [
        "mvps = pd.read_csv('https://raw.githubusercontent.com/GabrielTeixeiraC/NBA-ICD/main/mvps.csv', encoding = \"ISO-8859-1\", sep=';')\n",
        "nicknames = pd.read_csv('https://raw.githubusercontent.com/GabrielTeixeiraC/NBA-ICD/main/nicknames.csv', encoding = \"ISO-8859-1\", sep=';')\n",
        "player_mvp_stats = pd.read_csv('https://raw.githubusercontent.com/GabrielTeixeiraC/NBA-ICD/main/player_mvp_stats.csv', encoding = \"ISO-8859-1\", sep=';')\n",
        "players = pd.read_csv('https://raw.githubusercontent.com/GabrielTeixeiraC/NBA-ICD/main/players.csv', encoding = \"ISO-8859-1\", sep=';')\n",
        "teams = pd.read_csv('https://raw.githubusercontent.com/GabrielTeixeiraC/NBA-ICD/main/teams.csv', encoding = \"ISO-8859-1\", sep=';')"
      ],
      "metadata": {
        "id": "PEV3N-k3yvSK"
      },
      "execution_count": null,
      "outputs": []
    },
    {
      "cell_type": "markdown",
      "source": [
        "As tabela \"mvps\", \"player_mvp_stats\" e \"players\" são referentes aos dados dos jogadores da NBA e às características que selecionaram os melhores jogadores. Como elas possuem interseção entre alguns dados e uma grande quantidade de colunas, selecionamos abaixo algumas das principais informações presentes nessas tabelas:\n",
        "\n",
        "*   Player: nome do jogador\n",
        "*   Rk: posição no rank do jogador\n",
        "*   Pos: posição em que ele joga\n",
        "*   Age: idade do jogador\n",
        "*   Tm: time que ele se encontra\n",
        "*   MP: número de minutos jogados por jogo\n",
        "*   TRB: número total de rebotes\n",
        "*   AST: número de assistências por jogo\n",
        "*   BLK: número de bloqueios por jogo\n",
        "*   STL: número de roubos por jogo\n",
        "*   Year: ano da liga\n",
        "*   W: número de vitórias\n",
        "*   L: número de derrotas\n",
        "*   3P: número de cestas de 3 pontos\n",
        "*   2P: número de cestas de 2 pontos\n",
        "*   AST: número de assistências por jogo\n",
        "*   PTS: número de pontos por jogo\n",
        "*   Year: ano da liga\n",
        "\n",
        "A seguir são mostradas as primeiras 5 linhas de cada uma dessas tabelas."
      ],
      "metadata": {
        "id": "0aVG3COM5hrW"
      }
    },
    {
      "cell_type": "code",
      "source": [
        "mvps.head()"
      ],
      "metadata": {
        "id": "DStcRgviz8U1"
      },
      "execution_count": null,
      "outputs": []
    },
    {
      "cell_type": "code",
      "source": [
        "player_mvp_stats.head()"
      ],
      "metadata": {
        "id": "9wAwVY2p0FI6"
      },
      "execution_count": null,
      "outputs": []
    },
    {
      "cell_type": "code",
      "source": [
        "players.head()"
      ],
      "metadata": {
        "id": "CCHzPQnL0Fs7"
      },
      "execution_count": null,
      "outputs": []
    },
    {
      "cell_type": "markdown",
      "source": [
        "A tabela \"nicknames\" é referente às abreviações do nome dos times que participaram da liga. É possível observar abaixo as informações presentes nessa tabela:\n",
        "\n",
        "*   Abbreviation: sigla com a abreviação do nome do time\n",
        "*   Name: nome completo do time\n",
        "\n",
        "A seguir são mostradas as primeiras 5 linhas dessa tabela.\n",
        "\n"
      ],
      "metadata": {
        "id": "Kyei586L8Vu8"
      }
    },
    {
      "cell_type": "code",
      "source": [
        "nicknames.head()"
      ],
      "metadata": {
        "id": "O3RP_Br20ERC"
      },
      "execution_count": null,
      "outputs": []
    },
    {
      "cell_type": "markdown",
      "source": [
        "A tabela \"teams\" é referente aos times que participaram da liga. É possível observar abaixo as principais informações presentes nessa tabela:\n",
        "\n",
        "\n",
        "\n",
        "*   W: número de vitórias\n",
        "*   L: número de derrotas\n",
        "*   PS/G: pontos por jogo\n",
        "*   PA/G: pontos dos oponentes por jogo\n",
        "*   W/L%: taxa de vitória\n",
        "*   Year: ano da liga\n",
        "*   Team: nome do time\n",
        "\n",
        "\n",
        "\n",
        "\n",
        "\n",
        "\n"
      ],
      "metadata": {
        "id": "KkVpQVUDA-h3"
      }
    },
    {
      "cell_type": "code",
      "source": [
        "teams.head()"
      ],
      "metadata": {
        "id": "sctdNioi0GaJ"
      },
      "execution_count": null,
      "outputs": []
    },
    {
      "cell_type": "markdown",
      "source": [
        "> **Perguntas da Pesquisa**\n",
        "\n",
        "As seguintes perguntas foram consideradas interessantes para serem respondidas com a realização desse trabalho:\n",
        "\n",
        "\n",
        "1.   Como a média de pontos por jogo variou durante os anos? Quais estatísticas de jogo interferem nesse valor?\n",
        "2.   Michael Jordan é realmente destaque em comparação aos outros jogadores?\n",
        "3.   É possível adivinhar a posição de um jogador de acordo com suas estatísticas?\n",
        "4.   Qual o valor esperado para taxa de vitória/derrota de um time de acordo com a média de pontos por jogo?\n",
        "\n",
        "\n",
        "\n"
      ],
      "metadata": {
        "id": "azq9WmYxCd6O"
      }
    },
    {
      "cell_type": "markdown",
      "source": [
        "# 1 - Média de pontos da NBA ao longo dos anos\n",
        "É interessante observar como a dinâmica dos jogos se modificou ao longo dos anos. Para isso, aqui é calculada a média de pontos por partida de todos os jogos referentes aos anos 1991-2020.\n",
        "A aposentadoria ou o início de carreira de jogadores considerados destaques não influencia diretamente na média geral de pontos por partida de toda a liga. Mas, é fato que, pelo menos, nos últimos 10 anos, a média de pontos por partida está crescendo.\n",
        "\n",
        "> **Método utilizado**\n",
        "\n",
        "Para fazer esse estudo, foram utilizados conhecimentos de Limpeza, Análise Exploratória e Visualização de Dados.\n"
      ],
      "metadata": {
        "id": "v7GiyX787U3u"
      }
    },
    {
      "cell_type": "code",
      "source": [
        "# Limpeza dos dados \n",
        "players = players[~players[\"Player\"].str.contains(\"Player\")].copy()\n",
        "\n",
        "players = players.apply(pd.to_numeric, errors='ignore')\n",
        "groupby = players.groupby('Year')['PTS'].mean()\n",
        "\n",
        "plt.plot(groupby)\n",
        "plt.title(\"Média de pontos da NBA ao longo dos anos\")\n",
        "plt.xlabel('Anos')\n",
        "plt.ylabel('Média de pontos por ano')\n",
        "plt.axvline(x = 2003, ls='--', color ='r')\n",
        "plt.axvline(x = 2009, ls='--', color ='g')\n",
        "plt.legend([\"Média de pontos\", \"Aposentadoria Michael Jordan\", \"Entrada Stephen Curry\"])\n",
        "despine()"
      ],
      "metadata": {
        "id": "C98sfzv50kE2"
      },
      "execution_count": null,
      "outputs": []
    },
    {
      "cell_type": "markdown",
      "source": [
        "Como foi percebida uma diferença na média de pontos ao longo dos anos, é sugestivo imaginar que o estilo de jogo com o passar do tempo adquiriu diferentes características. Para tentar capturar essas mudanças, os gráficos com as médias para diferentes atributos são interessantes para identificar essas características e ajudam a explicar a variação da média de pontos anual por jogador mostrada anteriormente.\n"
      ],
      "metadata": {
        "id": "gFnCbBWhXftL"
      }
    },
    {
      "cell_type": "code",
      "source": [
        "groupby3P = players.groupby('Year')['3P'].mean()\n",
        "\n",
        "groupby2P = players.groupby('Year')['2P'].mean()\n",
        "\n",
        "groupbyTRB = players.groupby('Year')['TRB'].mean()\n",
        "\n",
        "groupbyAST = players.groupby('Year')['AST'].mean()\n",
        "\n",
        "groupbySTL = players.groupby('Year')['STL'].mean()\n",
        "\n",
        "groupbyBLK = players.groupby('Year')['BLK'].mean()"
      ],
      "metadata": {
        "id": "54mhmasxY8G7"
      },
      "execution_count": null,
      "outputs": []
    },
    {
      "cell_type": "code",
      "source": [
        "f, axs = plt.subplots(2, 3, figsize=(15,8))\n",
        "axs[0, 0].plot(groupby2P)\n",
        "axs[0, 0].set_title('Média de cestas de 2 pontos da NBA')\n",
        "axs[0, 0].set_xlabel('Anos')\n",
        "axs[0, 0].set_ylabel('Cestas de 2 pontos')\n",
        "\n",
        "axs[0, 1].plot(groupby3P)\n",
        "axs[0, 1].set_title('Média de cestas de 3 pontos da NBA')\n",
        "axs[0, 1].set_xlabel('Anos')\n",
        "axs[0, 1].set_ylabel('Cestas de 3 pontos')\n",
        "\n",
        "axs[0, 2].plot(groupbyTRB)\n",
        "axs[0, 2].set_title('Média de rebotes da NBA')\n",
        "axs[0, 2].set_xlabel('Anos')\n",
        "axs[0, 2].set_ylabel('Rebotes')\n",
        "\n",
        "axs[1, 0].plot(groupbyAST)\n",
        "axs[1, 0].set_title('Média de assistências da NBA')\n",
        "axs[1, 0].set_xlabel('Anos')\n",
        "axs[1, 0].set_ylabel('Assistências')\n",
        "\n",
        "axs[1, 1].plot(groupbySTL)\n",
        "axs[1, 1].set_title('Média de roubos da NBA')\n",
        "axs[1, 1].set_xlabel('Anos')\n",
        "axs[1, 1].set_ylabel('Roubos')\n",
        "\n",
        "axs[1, 2].plot(groupbyBLK)\n",
        "axs[1, 2].set_title('Média de bloqueios da NBA')\n",
        "axs[1, 2].set_xlabel('Anos')\n",
        "axs[1, 2].set_ylabel('Bloqueios')\n",
        "\n",
        "f.subplots_adjust(wspace=0.4, hspace=0.4)\n",
        "plt.show()"
      ],
      "metadata": {
        "id": "aeDzsmn5f9A_"
      },
      "execution_count": null,
      "outputs": []
    },
    {
      "cell_type": "markdown",
      "source": [
        "> **Conclusões/Previsões**\n",
        "\n",
        "Além de perceber que a variável \"média de pontos por partida\" é resultado da combinação entre diversas outras estatísticas, podemos propor que a crescente na média de pontos, observada em alguns momentos do período analisado, é justificada pela combinação do aumento da média de cestas de 3 pontos e a diminuição de roubos (que caracteriza ataques bem sucedidos)."
      ],
      "metadata": {
        "id": "XoeHvo7_EeT9"
      }
    },
    {
      "cell_type": "markdown",
      "source": [
        "# 2 - Intervalo de Confiança para os pontos por partida de Michael Jordan\n",
        "É interessante observar os dados de um jogador considerado destaque historicamente em relação aos outros jogadores. \n",
        "\n",
        "> **Método utilizado**\n",
        "\n",
        "Podemos construir um teste de hipótese, considerando a média de pontos por partida ao longo dos anos, sendo:\n",
        "\n",
        "  H0: Michael Jordan é um jogador dentro da média.\n",
        "\n",
        "  H1: Michael Jordan é um jogador acima da média.\n",
        "\n",
        "Para testar as hipóteses, é possível construir um intervalo de 95% de confiança para a média de pontos por partida dos jogadores utilizando o bootstrap.\n",
        "\n"
      ],
      "metadata": {
        "id": "HVO-KJ9UAo6f"
      }
    },
    {
      "cell_type": "code",
      "source": [
        "def bootstrap_mean(df, column, n=5000, size=None):\n",
        "    '''\n",
        "    Faz um boostrap da média. Gera amostras.\n",
        "    \n",
        "    Parâmetros\n",
        "    ----------\n",
        "    df: o dataframe\n",
        "    column: a coluna que queremos focar\n",
        "    n: número de amostras para o bootstrap\n",
        "    size: tamanho de cada amostra, por padrão vira o tamanho do df.\n",
        "    '''\n",
        "    if size is None:\n",
        "        size = len(df)\n",
        "    values = np.zeros(n)\n",
        "    for i in range(n):\n",
        "        sample = df[column].sample(size, replace=True)\n",
        "        values[i] = sample.mean()\n",
        "    return values"
      ],
      "metadata": {
        "id": "Vi14ZRV37A36"
      },
      "execution_count": null,
      "outputs": []
    },
    {
      "cell_type": "code",
      "source": [
        "# Faz um IC boostrap da média. Gera um Intervalo.\n",
        "def ic_bootstrap(df, column, n=5000, size=None):\n",
        "    '''\n",
        "    Parâmetros\n",
        "      df: o dataframe\n",
        "      column: a coluna que queremos focar\n",
        "      n: número de amostras para o bootstrap\n",
        "      size: tamanho de cada amostra, por padrão vira o tamanho do df.\n",
        "    '''\n",
        "\n",
        "    values = bootstrap_mean(df, column, n, size)\n",
        "    return (np.percentile(values, 2.5), np.percentile(values, 97.5))"
      ],
      "metadata": {
        "id": "C9zwCG4MU_ki"
      },
      "execution_count": null,
      "outputs": []
    },
    {
      "cell_type": "code",
      "source": [
        "# Limpeza dos dados\n",
        "players[\"Player\"] = players[\"Player\"].str.replace(\"*\", \"\", regex=False)\n",
        "players['PTS'] = pd.to_numeric(players['PTS'])\n",
        "players['MP'] = pd.to_numeric(players['MP'])\n",
        "\n",
        "# Filtragem dos dados\n",
        "jordan_like_players = players[players['Year'] < 2004]\n",
        "jordan_like_players = players[players['Pos'] == 'SG']\n",
        "jordan_like_players = players[players['MP'] > 11.3]\n",
        "jordan_like_players = players[players['PTS'] > 10]\n",
        "groupby = jordan_like_players.groupby('Player')['PTS'].mean()\n",
        "groupby = groupby.to_frame().reset_index()"
      ],
      "metadata": {
        "id": "3I8LMHFkVAY-"
      },
      "execution_count": null,
      "outputs": []
    },
    {
      "cell_type": "code",
      "source": [
        "# Comparacao da media de Jordan com os outros jogadores\n",
        "jordan_mean = players['PTS'][players['Player'] == 'Michael Jordan'].mean()\n",
        "total_mean = players['PTS'].mean()\n",
        "\n",
        "print('Media de pontos por partida de Michael Jordan: ', jordan_mean)\n",
        "print('Media geral de pontos por partida: ', total_mean)"
      ],
      "metadata": {
        "id": "AcJBdKljcxSi"
      },
      "execution_count": null,
      "outputs": []
    },
    {
      "cell_type": "code",
      "source": [
        "print(ic_bootstrap(groupby, 'PTS'))\n",
        "groupby[groupby['Player'] == 'Michael Jordan']['PTS']\n",
        "\n",
        "# Intervalo de confianca da media de pontos por partida\n",
        "values = bootstrap_mean(groupby, 'PTS')\n",
        "plt.hist(values, bins=20, edgecolor='k');\n",
        "plt.xlabel('Media da Amostra')\n",
        "plt.ylabel('P(media)')\n",
        "plt.axvline(x = jordan_mean, ls='--', color ='g')\n",
        "plt.legend([\"Média de pontos de Michael Jordan\"])\n",
        "despine()"
      ],
      "metadata": {
        "id": "HddWgLP3mu8P"
      },
      "execution_count": null,
      "outputs": []
    },
    {
      "cell_type": "markdown",
      "source": [
        "> **Resultados**\n",
        "\n",
        "Ao analisar o intervalo de confiança e onde Michael Jordan se encontra em relação aos demais jogadores, percebemos como ele está fora do intervalo, o que mostra que ele era acima da média, satisfazendo a hipótese alternativa."
      ],
      "metadata": {
        "id": "Y9VqEFIcF3YB"
      }
    },
    {
      "cell_type": "markdown",
      "source": [
        "# 3 - Classificação das posições dos jogadores\n",
        "  Queremos descobrir a posição de um jogador a partir das suas estatísticas de jogo. \n",
        "  \n",
        "> **Método utilizado**\n",
        "\n",
        "  Para isso, foi utilizado o algoritmo de aprendizado supervisionado Random Forest Classifier, visto na matéria. Esse classificador atua gerando várias árvores de classificação em amostras aleatórias e o resultado é a classe que foi escolhida por mais árvores durante o teste. Além disso, foi feito um processo de Validação Cruzada Estratificado, com número de divisões igual a 5.\n"
      ],
      "metadata": {
        "id": "muFAy9NEuU10"
      }
    },
    {
      "cell_type": "code",
      "source": [
        "from sklearn.model_selection import StratifiedKFold\n",
        "from sklearn.ensemble import RandomForestClassifier\n",
        "from sklearn.metrics import precision_score\n",
        "\n",
        "# Seleção das colunas relevantes\n",
        "columns = ['MP', 'FG', 'FGA', 'FG%','3P', '3PA', '3P%', '2P', '2PA', '2P%', \n",
        "           'eFG%', 'FT', 'FTA', 'FT%', 'ORB', 'DRB', 'TRB', 'AST', 'STL', \n",
        "           \"BLK\", 'TOV', 'PF', 'PTS']\n",
        "\n",
        "# Remoção de linhas não utilizadas\n",
        "X = players[~players[\"Player\"].str.contains(\"Player\")].copy()\n",
        "\n",
        "# Remoção das linhas referentes ao LeBron James, para ser testadas depois\n",
        "lebron = X[X['Player'] == 'LeBron James']\n",
        "X = X[~X[\"Player\"].str.contains(\"LeBron\")].copy()\n",
        "\n",
        "# Somente posições simples são utilizadas, removendo posições como SF-PF\n",
        "X = X[~X[\"Pos\"].str.contains(\"-\")].copy() \n",
        "\n",
        "# Seleção do X e Y\n",
        "Y = X['Pos']\n",
        "X = X[columns]\n",
        "\n",
        "# Criação do modelo e da validação cruzada estratificada\n",
        "skf = StratifiedKFold(n_splits = 5, shuffle = True, random_state=1)\n",
        "model = RandomForestClassifier(n_estimators=200, criterion='entropy')\n",
        "fold = 1\n",
        "\n",
        "# Ajuste do modelo aos dados e obtenção da precisão\n",
        "for train_index, test_index in skf.split(X, Y):\n",
        "  model.fit(X.values[train_index], Y.values[train_index])\n",
        "  Y_true = Y.values[test_index]\n",
        "  Y_pred = model.predict(X.values[test_index])\n",
        "  precision = precision_score(Y_true, Y_pred, average='micro')\n",
        "  print('Precisão fold', fold, ':', round(precision * 100, 2), '%')\n",
        "  fold = fold + 1\n"
      ],
      "metadata": {
        "id": "pLeWUBX-viO2"
      },
      "execution_count": null,
      "outputs": []
    },
    {
      "cell_type": "markdown",
      "source": [
        "> **Previsões**\n",
        "\n",
        "Somente para fins de exemplificar o funcionamento do classificador, segue um exemplo com LeBron James, com estatísticas que ele alcançou em anos que ele jogou em posições diferentes. Os dados do LeBron foram previamente separados do conjunto de treino."
      ],
      "metadata": {
        "id": "ZNmD7lt6o5Db"
      }
    },
    {
      "cell_type": "code",
      "source": [
        "lebronX = lebron[columns]\n",
        "lebronY = lebron['Pos']\n",
        "for i in range(len(lebronX)):\n",
        "  stats = lebronX.iloc[i].values\n",
        "  position = lebronY.iloc[i]\n",
        "  print('Posição prevista pelo modelo:', model.predict([stats])[0], end = ' | ')\n",
        "  print('Posição real:', position)"
      ],
      "metadata": {
        "id": "xYtEHCU2aLbR"
      },
      "execution_count": null,
      "outputs": []
    },
    {
      "cell_type": "markdown",
      "source": [
        "\n",
        "> **Conclusões**\n",
        "\n",
        "Essa estratégia de classificação gerou uma acurácia de aproximadamente 65%. Para aumentar esse valor, outro modelo de aprendizado poderia ser escolhido e outros valores para os hiperparâmetros poderiam ser escolhidos."
      ],
      "metadata": {
        "id": "gFatBp1vBK4a"
      }
    },
    {
      "cell_type": "markdown",
      "source": [
        "# 4 - Qual o valor esperado para taxa de vitória/derrota de um time de acordo com a média de pontos por jogo?\n",
        "\n",
        "Queremos descobrir se há uma correlação forte entre a média de pontos e a taxa de vitória de um time.\n",
        "\n",
        "> **Método utilizado**\n",
        "\n",
        "Foi utilizada a regressão linear para estimar a taxa de vitória de um time a partir da sua média de pontos por jogo. A regressão linear captura a reta que minimiza o erro quadrado médio. Com isso, podemos estimar uma taxa de vitória a partir de uma dada média de pontos por jogo."
      ],
      "metadata": {
        "id": "1LRPA2XFMhty"
      }
    },
    {
      "cell_type": "code",
      "source": [
        "# Limpeza dos dados\n",
        "teams = teams[~teams[\"W\"].str.contains(\"Division\")].copy()\n",
        "teams['PS/G'] = pd.to_numeric(teams['PS/G'])\n",
        "\n",
        "pontos_jogo = teams['PS/G']\n",
        "pontos_jogo.head()"
      ],
      "metadata": {
        "id": "-Rtwxs7gP8vD"
      },
      "execution_count": null,
      "outputs": []
    },
    {
      "cell_type": "code",
      "source": [
        "teams['W/L%'] = pd.to_numeric(teams['W/L%'])\n",
        "\n",
        "taxa_vitoria = teams['W/L%']\n",
        "taxa_vitoria.head()"
      ],
      "metadata": {
        "id": "xJXVaLV5QQ03"
      },
      "execution_count": null,
      "outputs": []
    },
    {
      "cell_type": "code",
      "source": [
        "plt.scatter(pontos_jogo, taxa_vitoria, edgecolors='k', s=80, alpha=0.6)\n",
        "plt.title('Taxa de vitória dos times da NBA')\n",
        "plt.ylabel(r'Taxa de Vitória')\n",
        "plt.xlabel(r'Pontos por jogo')\n",
        "despine()"
      ],
      "metadata": {
        "id": "lkjlwHBJMrOJ"
      },
      "execution_count": null,
      "outputs": []
    },
    {
      "cell_type": "code",
      "source": [
        "import seaborn as sns\n",
        "sns.regplot(x='PS/G', y='W/L%', data=teams, n_boot=10000,\n",
        "            line_kws={'color':'magenta', 'lw':4},\n",
        "            scatter_kws={'edgecolor':'k', 's':80, 'alpha':0.8})\n",
        "plt.title('Taxa de vitória dos times da NBA')\n",
        "plt.ylabel(r'Taxa de Vitória')\n",
        "plt.xlabel(r'Pontos por jogo')\n",
        "despine()"
      ],
      "metadata": {
        "id": "X0MOL9DHRFkD"
      },
      "execution_count": null,
      "outputs": []
    },
    {
      "cell_type": "markdown",
      "source": [
        "É possível descobrir se essa regressão realizada explica bem os dados ao calcular o coeficiente de determinação (R-quadrado ou R2), que mede a fração da variação total na variável dependente que é capturada pelo modelo. A seguir é feito esse cálculo.\n"
      ],
      "metadata": {
        "id": "GHVRe-3Ull3B"
      }
    },
    {
      "cell_type": "code",
      "source": [
        "import scipy.stats as ss\n",
        "\n",
        "# Encontra alpha e beta\n",
        "model = ss.linregress(pontos_jogo, taxa_vitoria)\n",
        "beta = model.slope\n",
        "alpha = model.intercept\n",
        "print('Beta:', model.slope, 'Alpha:', model.intercept)"
      ],
      "metadata": {
        "id": "b37nXb-la7AE"
      },
      "execution_count": null,
      "outputs": []
    },
    {
      "cell_type": "code",
      "source": [
        "# Definindo valor R2\n",
        "def error(alpha, beta, x, y):\n",
        "  y_model = beta * x + alpha\n",
        "  erro = y - y_model\n",
        "  return erro\n",
        "\n",
        "def sum_of_squared_errors(alpha, beta, x, y):\n",
        "  e_sq = error(alpha, beta, x, y) ** 2\n",
        "  e_sq = e_sq.sum()\n",
        "  return e_sq\n",
        "  \n",
        "def r_squared(alpha, beta, x, y):\n",
        "  r2 = 1.0 - (sum_of_squared_errors(alpha, beta, x, y) / ((y - y.mean()) ** 2).sum())\n",
        "  return r2"
      ],
      "metadata": {
        "id": "SVFTO0eGp_gI"
      },
      "execution_count": null,
      "outputs": []
    },
    {
      "cell_type": "code",
      "source": [
        "R2 = r_squared(alpha, beta, pontos_jogo, taxa_vitoria)\n",
        "print('R2:' , R2)"
      ],
      "metadata": {
        "id": "OW__FykcqIDx"
      },
      "execution_count": null,
      "outputs": []
    },
    {
      "cell_type": "markdown",
      "source": [
        "> **Conclusões**\n",
        "\n",
        "O valor de R2 varia entre 0 e 1 e, quanto maior for, melhor o modelo se ajusta aos dados. Obtivemos 0.10 para esse valor, o que significa que este foi um modelo fraco para explicar esses dados e com certeza existem fatores que influenciam a taxa de vitórias de um time além da média de número de pontos. \n",
        "\n",
        "\n",
        "\n",
        "> **Previsões**\n",
        "\n",
        "Para testar o modelo, a seguir foi calculada a taxa de vitória para a média de 105 pontos. A taxa encontrada foi de 53%, mas é possível verificar no gráfico que há um intervalo muito grande de taxas para o valor de 105 pontos. Isso atesta o fato de que o modelo não explica bem os dados.\n",
        "\n"
      ],
      "metadata": {
        "id": "KTjavtv1muat"
      }
    },
    {
      "cell_type": "code",
      "source": [
        "# Exemplo\n",
        "\n",
        "nova_media_pontos2 = 105\n",
        "taxa_esperada2 = beta * nova_media_pontos2 + alpha\n",
        "print(\"Taxa de vitorias para uma média de 105 pontos: \", taxa_esperada2)"
      ],
      "metadata": {
        "id": "ro9-IYdbj6fu"
      },
      "execution_count": null,
      "outputs": []
    },
    {
      "cell_type": "code",
      "source": [
        "sns.regplot(x='PS/G', y='W/L%', data=teams, n_boot=10000,\n",
        "            line_kws={'color':'magenta', 'lw':4},\n",
        "            scatter_kws={'edgecolor':'k', 's':80, 'alpha':0.8})\n",
        "plt.axvline(x = 105, ls='--', color ='r')\n",
        "plt.title('Taxa de vitória dos times da NBA')\n",
        "plt.ylabel(r'Taxa de Vitória')\n",
        "plt.xlabel(r'Pontos por jogo')\n",
        "despine()"
      ],
      "metadata": {
        "id": "adiEw7FWRaCp"
      },
      "execution_count": null,
      "outputs": []
    }
  ]
}